{
  "nbformat": 4,
  "nbformat_minor": 5,
  "metadata": {
    "kernelspec": {
      "display_name": "Python 3",
      "language": "python",
      "name": "python3"
    },
    "language_info": {
      "codemirror_mode": {
        "name": "ipython",
        "version": 3
      },
      "file_extension": ".py",
      "mimetype": "text/x-python",
      "name": "python",
      "nbconvert_exporter": "python",
      "pygments_lexer": "ipython3",
      "version": "3.8.8"
    },
    "colab": {
      "name": "16_PythonBasic_22-November-2021.ipynb",
      "provenance": [],
      "include_colab_link": true
    }
  },
  "cells": [
    {
      "cell_type": "markdown",
      "metadata": {
        "id": "view-in-github",
        "colab_type": "text"
      },
      "source": [
        "<a href=\"https://colab.research.google.com/github/merdogan97/G-T_LESSON4/blob/main/16_PythonBasic_22_November_2021.ipynb\" target=\"_parent\"><img src=\"https://colab.research.google.com/assets/colab-badge.svg\" alt=\"Open In Colab\"/></a>"
      ]
    },
    {
      "cell_type": "markdown",
      "metadata": {
        "id": "406f2981"
      },
      "source": [
        "<img src=\"https://docs.google.com/uc?id=14xeXxFrVRjvOoUYWn_GuyE-v84wVzrqr\" class=\"img-fluid\" alt=\"CLRWY\" width=\"400\" height=\"200\">"
      ],
      "id": "406f2981"
    },
    {
      "cell_type": "markdown",
      "metadata": {
        "id": "22263af8"
      },
      "source": [
        "<h1><p style=\"text-align: center; color:darkblue\">Python In-Class, <br>22 November 2021</p><h1>"
      ],
      "id": "22263af8"
    },
    {
      "cell_type": "code",
      "metadata": {
        "id": "959f3f2d"
      },
      "source": [
        "a = \"i\"\n",
        "b = \"love\"\n",
        "c = \"you\""
      ],
      "id": "959f3f2d",
      "execution_count": null,
      "outputs": []
    },
    {
      "cell_type": "code",
      "metadata": {
        "id": "def65db1"
      },
      "source": [
        "def texter(text1, text2, text3) :\n",
        "    print(text2, text3, text1)"
      ],
      "id": "def65db1",
      "execution_count": null,
      "outputs": []
    },
    {
      "cell_type": "code",
      "metadata": {
        "id": "cdfa23b2"
      },
      "source": [
        "# i love you"
      ],
      "id": "cdfa23b2",
      "execution_count": null,
      "outputs": []
    },
    {
      "cell_type": "code",
      "metadata": {
        "id": "84a2c16c",
        "outputId": "72fddf22-f95f-445f-f886-15088d6bfccb"
      },
      "source": [
        "texter(c, a, b)"
      ],
      "id": "84a2c16c",
      "execution_count": null,
      "outputs": [
        {
          "name": "stdout",
          "output_type": "stream",
          "text": [
            "i love you\n"
          ]
        }
      ]
    },
    {
      "cell_type": "code",
      "metadata": {
        "id": "8f2effb8",
        "outputId": "1166a50b-42e4-4b67-fcea-e2802421ecbc"
      },
      "source": [
        "texter(text1 = \"you\", text3 = \"love\", text2 = \"i\")"
      ],
      "id": "8f2effb8",
      "execution_count": null,
      "outputs": [
        {
          "name": "stdout",
          "output_type": "stream",
          "text": [
            "i love you\n"
          ]
        }
      ]
    },
    {
      "cell_type": "code",
      "metadata": {
        "id": "a330f8dc"
      },
      "source": [
        "def fonksiyon(x = \"ali\", y = 22) :\n",
        "    print(x, y, \"yaşındadır.\")"
      ],
      "id": "a330f8dc",
      "execution_count": null,
      "outputs": []
    },
    {
      "cell_type": "code",
      "metadata": {
        "id": "0bf067c6",
        "outputId": "06e5edc0-ed86-4815-e787-96a1018b9580"
      },
      "source": [
        "fonksiyon()"
      ],
      "id": "0bf067c6",
      "execution_count": null,
      "outputs": [
        {
          "name": "stdout",
          "output_type": "stream",
          "text": [
            "ali 22 yaşındadır.\n"
          ]
        }
      ]
    },
    {
      "cell_type": "code",
      "metadata": {
        "id": "5825d83a",
        "outputId": "d3d668d5-af08-4ec2-f852-4e00e0757f9a"
      },
      "source": [
        "fonksiyon(y = 33, x = \"deli\")"
      ],
      "id": "5825d83a",
      "execution_count": null,
      "outputs": [
        {
          "name": "stdout",
          "output_type": "stream",
          "text": [
            "deli 33 yaşındadır.\n"
          ]
        }
      ]
    },
    {
      "cell_type": "code",
      "metadata": {
        "id": "d8aa6c29",
        "outputId": "df44c1b5-c22f-48e1-9f15-1a876e8367e5"
      },
      "source": [
        "fonksiyon(\"veli\", 40)"
      ],
      "id": "d8aa6c29",
      "execution_count": null,
      "outputs": [
        {
          "name": "stdout",
          "output_type": "stream",
          "text": [
            "veli 40 yaşındadır.\n"
          ]
        }
      ]
    },
    {
      "cell_type": "code",
      "metadata": {
        "id": "8d2444f8",
        "outputId": "bd6801ab-9de6-49a3-b138-6b93b43ac703"
      },
      "source": [
        "fonksiyon(\"selin\")"
      ],
      "id": "8d2444f8",
      "execution_count": null,
      "outputs": [
        {
          "name": "stdout",
          "output_type": "stream",
          "text": [
            "selin 22 yaşındadır.\n"
          ]
        }
      ]
    },
    {
      "cell_type": "code",
      "metadata": {
        "id": "a2be1d70"
      },
      "source": [
        "def parrot(voltage, state='a stiff', action='voom', type='Norwegian Blue'):\n",
        "    print(\"-- This parrot wouldn't\", action, end=' ')\n",
        "    print(\"if you put\", voltage, \"volts through it.\")\n",
        "    print(\"-- Lovely plumage, the\", type)\n",
        "    print(\"-- It's\", state, \"!\")"
      ],
      "id": "a2be1d70",
      "execution_count": null,
      "outputs": []
    },
    {
      "cell_type": "code",
      "metadata": {
        "id": "6db08011",
        "outputId": "29d9e898-27b5-432a-cf75-e0c59c2fa168"
      },
      "source": [
        "parrot(1000)"
      ],
      "id": "6db08011",
      "execution_count": null,
      "outputs": [
        {
          "name": "stdout",
          "output_type": "stream",
          "text": [
            "-- This parrot wouldn't voom if you put 1000 volts through it.\n",
            "-- Lovely plumage, the Norwegian Blue\n",
            "-- It's a stiff !\n"
          ]
        }
      ]
    },
    {
      "cell_type": "code",
      "metadata": {
        "id": "84e12c75",
        "outputId": "4f20d47e-55d0-4420-e97f-f5427e60580a"
      },
      "source": [
        "parrot(voltage=1000000, action='VOOOOOM')"
      ],
      "id": "84e12c75",
      "execution_count": null,
      "outputs": [
        {
          "name": "stdout",
          "output_type": "stream",
          "text": [
            "-- This parrot wouldn't VOOOOOM if you put 1000000 volts through it.\n",
            "-- Lovely plumage, the Norwegian Blue\n",
            "-- It's a stiff !\n"
          ]
        }
      ]
    },
    {
      "cell_type": "code",
      "metadata": {
        "id": "b5fcd972",
        "outputId": "4a81b7a4-01d7-46f2-9725-07823c4ca883"
      },
      "source": [
        "parrot(action='VOOOOOM', voltage=1000000)"
      ],
      "id": "b5fcd972",
      "execution_count": null,
      "outputs": [
        {
          "name": "stdout",
          "output_type": "stream",
          "text": [
            "-- This parrot wouldn't VOOOOOM if you put 1000000 volts through it.\n",
            "-- Lovely plumage, the Norwegian Blue\n",
            "-- It's a stiff !\n"
          ]
        }
      ]
    },
    {
      "cell_type": "code",
      "metadata": {
        "id": "011e220f"
      },
      "source": [
        "def parrot(voltage, state='a stiff', action='voom', type='Norwegian Blue'):\n",
        "    print(\"-- This parrot wouldn't\", action, end=' ')\n",
        "    print(\"if you put\", voltage, \"volts through it.\")\n",
        "    print(\"-- Lovely plumage, the\", type)\n",
        "    print(\"-- It's\", state, \"!\")"
      ],
      "id": "011e220f",
      "execution_count": null,
      "outputs": []
    },
    {
      "cell_type": "code",
      "metadata": {
        "id": "d929d9ea",
        "outputId": "8c7a94aa-2287-43e5-e555-0d3a2760aaad"
      },
      "source": [
        "parrot(\"a million\", \"bereft of life\", \"jump\")"
      ],
      "id": "d929d9ea",
      "execution_count": null,
      "outputs": [
        {
          "name": "stdout",
          "output_type": "stream",
          "text": [
            "-- This parrot wouldn't jump if you put a million volts through it.\n",
            "-- Lovely plumage, the Norwegian Blue\n",
            "-- It's bereft of life !\n"
          ]
        }
      ]
    },
    {
      "cell_type": "code",
      "metadata": {
        "id": "ce30d0a8"
      },
      "source": [
        "parrot(\"a thousand\", state = \"pushing up the daisies\")"
      ],
      "id": "ce30d0a8",
      "execution_count": null,
      "outputs": []
    },
    {
      "cell_type": "code",
      "metadata": {
        "id": "91a91292",
        "outputId": "3d8830cf-b842-401e-c6a7-aa085ece04db"
      },
      "source": [
        "parrot()"
      ],
      "id": "91a91292",
      "execution_count": null,
      "outputs": [
        {
          "ename": "TypeError",
          "evalue": "parrot() missing 1 required positional argument: 'voltage'",
          "output_type": "error",
          "traceback": [
            "\u001b[0;31m---------------------------------------------------------------------------\u001b[0m",
            "\u001b[0;31mTypeError\u001b[0m                                 Traceback (most recent call last)",
            "\u001b[0;32m<ipython-input-17-1fa32faf15ff>\u001b[0m in \u001b[0;36m<module>\u001b[0;34m\u001b[0m\n\u001b[0;32m----> 1\u001b[0;31m \u001b[0mparrot\u001b[0m\u001b[0;34m(\u001b[0m\u001b[0;34m)\u001b[0m\u001b[0;34m\u001b[0m\u001b[0;34m\u001b[0m\u001b[0m\n\u001b[0m",
            "\u001b[0;31mTypeError\u001b[0m: parrot() missing 1 required positional argument: 'voltage'"
          ]
        }
      ]
    },
    {
      "cell_type": "code",
      "metadata": {
        "id": "a08caff1",
        "outputId": "8955ed81-57dd-4767-d033-2579b52b2962"
      },
      "source": [
        "parrot(voltage=5, \"dead\")"
      ],
      "id": "a08caff1",
      "execution_count": null,
      "outputs": [
        {
          "ename": "SyntaxError",
          "evalue": "positional argument follows keyword argument (<ipython-input-18-1e819ba30355>, line 1)",
          "output_type": "error",
          "traceback": [
            "\u001b[0;36m  File \u001b[0;32m\"<ipython-input-18-1e819ba30355>\"\u001b[0;36m, line \u001b[0;32m1\u001b[0m\n\u001b[0;31m    parrot(voltage=5, \"dead\")\u001b[0m\n\u001b[0m                      ^\u001b[0m\n\u001b[0;31mSyntaxError\u001b[0m\u001b[0;31m:\u001b[0m positional argument follows keyword argument\n"
          ]
        }
      ]
    },
    {
      "cell_type": "code",
      "metadata": {
        "id": "6ba0ad74",
        "outputId": "c56095e0-ae33-4a0a-954a-3cb41aec0cf3"
      },
      "source": [
        "parrot(state = \"ball\", \"a billion\")"
      ],
      "id": "6ba0ad74",
      "execution_count": null,
      "outputs": [
        {
          "ename": "SyntaxError",
          "evalue": "positional argument follows keyword argument (<ipython-input-19-abee362784b6>, line 1)",
          "output_type": "error",
          "traceback": [
            "\u001b[0;36m  File \u001b[0;32m\"<ipython-input-19-abee362784b6>\"\u001b[0;36m, line \u001b[0;32m1\u001b[0m\n\u001b[0;31m    parrot(state = \"ball\", \"a billion\")\u001b[0m\n\u001b[0m                           ^\u001b[0m\n\u001b[0;31mSyntaxError\u001b[0m\u001b[0;31m:\u001b[0m positional argument follows keyword argument\n"
          ]
        }
      ]
    },
    {
      "cell_type": "code",
      "metadata": {
        "id": "2404d46a",
        "outputId": "deaba981-0732-4986-8d72-3f92ac32db02"
      },
      "source": [
        "def argu(a, b = \"dünya\", c, d = \"satürn\") :\n",
        "    print(a, b, c, d, sep = \"\\n\")"
      ],
      "id": "2404d46a",
      "execution_count": null,
      "outputs": [
        {
          "ename": "SyntaxError",
          "evalue": "non-default argument follows default argument (<ipython-input-20-a16aa314c4e9>, line 1)",
          "output_type": "error",
          "traceback": [
            "\u001b[0;36m  File \u001b[0;32m\"<ipython-input-20-a16aa314c4e9>\"\u001b[0;36m, line \u001b[0;32m1\u001b[0m\n\u001b[0;31m    def argu(a, b = \"dünya\", c, d = \"satürn\") :\u001b[0m\n\u001b[0m             ^\u001b[0m\n\u001b[0;31mSyntaxError\u001b[0m\u001b[0;31m:\u001b[0m non-default argument follows default argument\n"
          ]
        }
      ]
    },
    {
      "cell_type": "code",
      "metadata": {
        "id": "b713e055"
      },
      "source": [
        "def argu(a, c, b = \"dünya\", d = \"satürn\") :\n",
        "    print(a, b, c, d, sep = \"\\n\")"
      ],
      "id": "b713e055",
      "execution_count": null,
      "outputs": []
    },
    {
      "cell_type": "code",
      "metadata": {
        "id": "e96494b5",
        "outputId": "3ddf5fa8-4c69-449f-9a20-32a13d31405e"
      },
      "source": [
        "argu()"
      ],
      "id": "e96494b5",
      "execution_count": null,
      "outputs": [
        {
          "ename": "TypeError",
          "evalue": "argu() missing 2 required positional arguments: 'a' and 'c'",
          "output_type": "error",
          "traceback": [
            "\u001b[0;31m---------------------------------------------------------------------------\u001b[0m",
            "\u001b[0;31mTypeError\u001b[0m                                 Traceback (most recent call last)",
            "\u001b[0;32m<ipython-input-22-2743aba80a34>\u001b[0m in \u001b[0;36m<module>\u001b[0;34m\u001b[0m\n\u001b[0;32m----> 1\u001b[0;31m \u001b[0margu\u001b[0m\u001b[0;34m(\u001b[0m\u001b[0;34m)\u001b[0m\u001b[0;34m\u001b[0m\u001b[0;34m\u001b[0m\u001b[0m\n\u001b[0m",
            "\u001b[0;31mTypeError\u001b[0m: argu() missing 2 required positional arguments: 'a' and 'c'"
          ]
        }
      ]
    },
    {
      "cell_type": "code",
      "metadata": {
        "id": "84d84419",
        "outputId": "acbe1439-0dde-4d72-f8d9-67cdf2861e2f"
      },
      "source": [
        "argu(\"uranüs\", \"jüpiter\")"
      ],
      "id": "84d84419",
      "execution_count": null,
      "outputs": [
        {
          "name": "stdout",
          "output_type": "stream",
          "text": [
            "uranüs\n",
            "dünya\n",
            "jüpiter\n",
            "satürn\n"
          ]
        }
      ]
    },
    {
      "cell_type": "code",
      "metadata": {
        "id": "adc7ec8a"
      },
      "source": [
        "def argu(a, c, b = \"dünya\", d = \"satürn\") :\n",
        "    print(a, b, c, d, sep = \"\\n\")"
      ],
      "id": "adc7ec8a",
      "execution_count": null,
      "outputs": []
    },
    {
      "cell_type": "code",
      "metadata": {
        "id": "6b67f34a",
        "outputId": "c20b7fe2-92f2-4fd3-a04f-aebfddf29ab9"
      },
      "source": [
        "argu(a = \"uranüs\", c = \"jüpiter\")"
      ],
      "id": "6b67f34a",
      "execution_count": null,
      "outputs": [
        {
          "name": "stdout",
          "output_type": "stream",
          "text": [
            "uranüs\n",
            "dünya\n",
            "jüpiter\n",
            "satürn\n"
          ]
        }
      ]
    },
    {
      "cell_type": "code",
      "metadata": {
        "id": "7bed1d42"
      },
      "source": [
        "argu(\"plüto\", c = \"venüs\", \"mars\")"
      ],
      "id": "7bed1d42",
      "execution_count": null,
      "outputs": []
    },
    {
      "cell_type": "code",
      "metadata": {
        "id": "3f232d3a"
      },
      "source": [
        "def argu(a, c, b = \"dünya\", d = \"satürn\") :\n",
        "    print(a, b, c, d, sep = \"\\n\")"
      ],
      "id": "3f232d3a",
      "execution_count": null,
      "outputs": []
    },
    {
      "cell_type": "code",
      "metadata": {
        "id": "f2081f08",
        "outputId": "a091e0b4-3e91-4fe8-faab-e6fe0a48d256"
      },
      "source": [
        "argu(\"plüto\", \"mars\", c = \"venüs\")"
      ],
      "id": "f2081f08",
      "execution_count": null,
      "outputs": [
        {
          "ename": "TypeError",
          "evalue": "argu() got multiple values for argument 'c'",
          "output_type": "error",
          "traceback": [
            "\u001b[0;31m---------------------------------------------------------------------------\u001b[0m",
            "\u001b[0;31mTypeError\u001b[0m                                 Traceback (most recent call last)",
            "\u001b[0;32m<ipython-input-26-4e39c7bf3245>\u001b[0m in \u001b[0;36m<module>\u001b[0;34m\u001b[0m\n\u001b[0;32m----> 1\u001b[0;31m \u001b[0margu\u001b[0m\u001b[0;34m(\u001b[0m\u001b[0;34m\"plüto\"\u001b[0m\u001b[0;34m,\u001b[0m \u001b[0;34m\"mars\"\u001b[0m\u001b[0;34m,\u001b[0m \u001b[0mc\u001b[0m \u001b[0;34m=\u001b[0m \u001b[0;34m\"venüs\"\u001b[0m\u001b[0;34m)\u001b[0m\u001b[0;34m\u001b[0m\u001b[0;34m\u001b[0m\u001b[0m\n\u001b[0m",
            "\u001b[0;31mTypeError\u001b[0m: argu() got multiple values for argument 'c'"
          ]
        }
      ]
    },
    {
      "cell_type": "code",
      "metadata": {
        "id": "53fc82e2",
        "outputId": "3b60b8f5-34bf-4fbc-beaa-f6679336f9f7"
      },
      "source": [
        "argu(d = \"güneş\", a = \"dünya\", c = \"plüto\", b = \"venüs\")"
      ],
      "id": "53fc82e2",
      "execution_count": null,
      "outputs": [
        {
          "name": "stdout",
          "output_type": "stream",
          "text": [
            "dünya\n",
            "venüs\n",
            "plüto\n",
            "güneş\n"
          ]
        }
      ]
    },
    {
      "cell_type": "code",
      "metadata": {
        "id": "2bd8afa8",
        "outputId": "f27be5b1-af9f-4935-9e6d-f2617a414af8"
      },
      "source": [
        "argu(\"güneş\", \"dünya\", \"plüto\", \"venüs\")"
      ],
      "id": "2bd8afa8",
      "execution_count": null,
      "outputs": [
        {
          "name": "stdout",
          "output_type": "stream",
          "text": [
            "güneş\n",
            "plüto\n",
            "dünya\n",
            "venüs\n"
          ]
        }
      ]
    },
    {
      "cell_type": "markdown",
      "metadata": {
        "id": "5e30c4be"
      },
      "source": [
        "## Armstrong Numbers"
      ],
      "id": "5e30c4be"
    },
    {
      "cell_type": "code",
      "metadata": {
        "id": "27aa6536",
        "outputId": "bc1c4f70-3f63-4b4f-bc9b-79032a2cd8c7"
      },
      "source": [
        "while True :\n",
        "    \n",
        "    number = input(\"enter a positive integer number :\")\n",
        "    digits = len(number)\n",
        "    summ = 0\n",
        "    \n",
        "    if not number.isdigit() :\n",
        "        print(number, \" is invalid entry. Enter valid input.\")\n",
        "        \n",
        "    elif int(number) >= 0 :\n",
        "        for i in range(digits) :\n",
        "            \n",
        "            summ = summ + int(number[i]) ** digits\n",
        "        \n",
        "        if summ == int(number):\n",
        "            print(number, \" is an Armstrong Number\")\n",
        "            break\n",
        "            \n",
        "        else :\n",
        "            print(number, \"is not an Armstrong Number\")\n",
        "            break\n",
        "        \n",
        "        "
      ],
      "id": "27aa6536",
      "execution_count": null,
      "outputs": [
        {
          "name": "stdout",
          "output_type": "stream",
          "text": [
            "enter a positive integer number :63105425988599693916\n",
            "63105425988599693916  is an Armstrong Number\n"
          ]
        }
      ]
    },
    {
      "cell_type": "code",
      "metadata": {
        "id": "62d14995",
        "outputId": "a431b996-4894-45c5-9120-f2be9a6040d6"
      },
      "source": [
        "\"11.1\".isdigit()"
      ],
      "id": "62d14995",
      "execution_count": null,
      "outputs": [
        {
          "data": {
            "text/plain": [
              "False"
            ]
          },
          "execution_count": 30,
          "metadata": {},
          "output_type": "execute_result"
        }
      ]
    },
    {
      "cell_type": "code",
      "metadata": {
        "id": "9eb79dfe",
        "outputId": "f4190c7c-74c4-43dd-b6f0-c64500410ac0"
      },
      "source": [
        "\"111\".isdigit()"
      ],
      "id": "9eb79dfe",
      "execution_count": null,
      "outputs": [
        {
          "data": {
            "text/plain": [
              "True"
            ]
          },
          "execution_count": 31,
          "metadata": {},
          "output_type": "execute_result"
        }
      ]
    },
    {
      "cell_type": "markdown",
      "metadata": {
        "id": "649028df"
      },
      "source": [
        "## is it a Prime Number?"
      ],
      "id": "649028df"
    },
    {
      "cell_type": "code",
      "metadata": {
        "id": "d7335447",
        "outputId": "560cfbe7-3c23-443e-b2b5-d21e20f0085b"
      },
      "source": [
        "n = int(input(\"Enter a positive number to check if it is a Prime Number\"))\n",
        "counter = 0\n",
        "\n",
        "for i in range(1, n+1) :\n",
        "    if n % i == 0 :\n",
        "        counter += 1\n",
        "        \n",
        "if (n == 0) or (n == 1) or (counter >= 3) :\n",
        "    print(n, \" is not a Prime Number\")\n",
        "    \n",
        "else :\n",
        "    print(n, \" is a Prime Number\")"
      ],
      "id": "d7335447",
      "execution_count": null,
      "outputs": [
        {
          "name": "stdout",
          "output_type": "stream",
          "text": [
            "Enter a positive number to check if it is a Prime Number333667\n",
            "333667  is a Prime Number\n"
          ]
        }
      ]
    },
    {
      "cell_type": "code",
      "metadata": {
        "id": "e437aae0"
      },
      "source": [
        ""
      ],
      "id": "e437aae0",
      "execution_count": null,
      "outputs": []
    },
    {
      "cell_type": "code",
      "metadata": {
        "id": "93a9df5f"
      },
      "source": [
        ""
      ],
      "id": "93a9df5f",
      "execution_count": null,
      "outputs": []
    },
    {
      "cell_type": "code",
      "metadata": {
        "id": "c0951356"
      },
      "source": [
        ""
      ],
      "id": "c0951356",
      "execution_count": null,
      "outputs": []
    }
  ]
}